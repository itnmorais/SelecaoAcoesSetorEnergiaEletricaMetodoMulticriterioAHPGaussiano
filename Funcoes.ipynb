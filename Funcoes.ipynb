{
 "cells": [
  {
   "cell_type": "markdown",
   "id": "9104106e",
   "metadata": {},
   "source": [
    "# FUNÇÕES"
   ]
  },
  {
   "cell_type": "markdown",
   "id": "3218c778",
   "metadata": {},
   "source": [
    "## Função Normalizar Dados:"
   ]
  },
  {
   "cell_type": "code",
   "execution_count": 54,
   "id": "5f20ccfb",
   "metadata": {},
   "outputs": [],
   "source": [
    "def normalizar_dados(dados):\n",
    "    dados = dados.copy()\n",
    "    for classific in menor_melhor:\n",
    "        dados[classific] = 1 /(dados[classific])\n",
    "  \n",
    "    for normalizar in nome_colunas:\n",
    "        dados[normalizar] = (dados[normalizar]) / (dados[normalizar].sum())\n",
    "\n",
    "    return dados"
   ]
  },
  {
   "cell_type": "markdown",
   "id": "0a5afb4a",
   "metadata": {},
   "source": [
    "## Função Fator Gaussiano:"
   ]
  },
  {
   "cell_type": "code",
   "execution_count": 55,
   "id": "1950db18",
   "metadata": {},
   "outputs": [],
   "source": [
    "def fator_gaussiano(dados):\n",
    "    res_fator_gaussiano = dados.std()/dados.mean()\n",
    "    return res_fator_gaussiano"
   ]
  },
  {
   "cell_type": "markdown",
   "id": "bdade787",
   "metadata": {},
   "source": [
    "## Função Normalizar Fator Gaussiano:"
   ]
  },
  {
   "cell_type": "code",
   "execution_count": 56,
   "id": "0125533c",
   "metadata": {},
   "outputs": [],
   "source": [
    "def normalizar_fator_gaussiano(fator_gaussiano):\n",
    "    fator_gaussiano = fator_gaussiano/ fator_gaussiano.sum()\n",
    "    return fator_gaussiano"
   ]
  },
  {
   "cell_type": "markdown",
   "id": "ad61c0fa",
   "metadata": {},
   "source": [
    "## Função Ponderar Dados:"
   ]
  },
  {
   "cell_type": "code",
   "execution_count": 57,
   "id": "d7bc5d1b",
   "metadata": {},
   "outputs": [],
   "source": [
    "def ponderar_dados(dados):\n",
    "    dados_ponderados = dados.copy()\n",
    "    for coluna in nome_colunas:\n",
    "        dados_ponderados[coluna] = dados_ponderados[coluna] * fator_gaussiano_normalizado[coluna]\n",
    "    return dados_ponderados"
   ]
  },
  {
   "cell_type": "markdown",
   "id": "80f40fcb",
   "metadata": {},
   "source": [
    "## Função Soma das Ponderações:"
   ]
  },
  {
   "cell_type": "code",
   "execution_count": 58,
   "id": "c4bd9a65",
   "metadata": {},
   "outputs": [],
   "source": [
    "def obter_ranking(dados):\n",
    "    dados_soma_criterios = dados.copy()\n",
    "    dados_soma_criterios['soma_das_ponderacoes'] = dados_soma_criterios.sum(axis = 1)\n",
    "    dados_soma_criterios.sort_values(by = 'soma_das_ponderacoes', ascending = False, inplace = True)\n",
    "    \n",
    "    return dados_soma_criterios"
   ]
  }
 ],
 "metadata": {
  "kernelspec": {
   "display_name": "Python 3 (ipykernel)",
   "language": "python",
   "name": "python3"
  },
  "language_info": {
   "codemirror_mode": {
    "name": "ipython",
    "version": 3
   },
   "file_extension": ".py",
   "mimetype": "text/x-python",
   "name": "python",
   "nbconvert_exporter": "python",
   "pygments_lexer": "ipython3",
   "version": "3.9.12"
  }
 },
 "nbformat": 4,
 "nbformat_minor": 5
}
